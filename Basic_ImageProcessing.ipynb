{
 "cells": [
  {
   "cell_type": "code",
   "execution_count": 2,
   "id": "baa4d552-21c3-4a71-b86a-530de0f61035",
   "metadata": {},
   "outputs": [],
   "source": [
    "import numpy as np\n",
    "import pandas as pd"
   ]
  },
  {
   "cell_type": "code",
   "execution_count": 3,
   "id": "afa06c05-5d1f-4c31-b578-93dce6b2209b",
   "metadata": {},
   "outputs": [],
   "source": [
    "import seaborn as sb\n",
    "import matplotlib.pyplot as plt"
   ]
  },
  {
   "cell_type": "code",
   "execution_count": 4,
   "id": "2d61454f-d4ed-4fbd-8c4f-275aed9ac8f3",
   "metadata": {},
   "outputs": [],
   "source": [
    "import cv2\n",
    "import glob as gb"
   ]
  },
  {
   "cell_type": "code",
   "execution_count": 5,
   "id": "5d2465da-3002-486d-a2ca-429281bb410d",
   "metadata": {},
   "outputs": [],
   "source": [
    "img_path = gb.glob('Pics/*.*')"
   ]
  },
  {
   "cell_type": "code",
   "execution_count": 6,
   "id": "c58d34d3-f655-41e9-b3f1-d98e2e78c1c6",
   "metadata": {},
   "outputs": [
    {
     "data": {
      "text/plain": [
       "['Pics\\\\2 (4).png',\n",
       " 'Pics\\\\astronaut.jpg',\n",
       " 'Pics\\\\bike.jpg',\n",
       " 'Pics\\\\color_dance.jpg',\n",
       " 'Pics\\\\combined.png',\n",
       " 'Pics\\\\girls.jpg',\n",
       " 'Pics\\\\HSV_ColorSpace.jpg',\n",
       " 'Pics\\\\HSV_ColorSpace2.jpg',\n",
       " 'Pics\\\\Img_merged_BGR.jpg',\n",
       " 'Pics\\\\Img_merged_RGB.jpg',\n",
       " 'Pics\\\\Overlay.png',\n",
       " 'Pics\\\\rainbow.png']"
      ]
     },
     "execution_count": 6,
     "metadata": {},
     "output_type": "execute_result"
    }
   ],
   "source": [
    "img_path"
   ]
  },
  {
   "cell_type": "code",
   "execution_count": 7,
   "id": "31ff7927-74d2-43c7-90d1-73943a2acf65",
   "metadata": {},
   "outputs": [],
   "source": [
    "image = cv2.imread(\"Pics/bike.jpg\")"
   ]
  },
  {
   "cell_type": "code",
   "execution_count": 8,
   "id": "fab741d9-0593-492f-8706-9a0e8a91f721",
   "metadata": {},
   "outputs": [
    {
     "data": {
      "text/plain": [
       "(520, 780, 3)"
      ]
     },
     "execution_count": 8,
     "metadata": {},
     "output_type": "execute_result"
    }
   ],
   "source": [
    "image.shape"
   ]
  },
  {
   "cell_type": "code",
   "execution_count": 9,
   "id": "6f616349-c64a-4f25-9a01-07e2ac8d19c3",
   "metadata": {},
   "outputs": [
    {
     "data": {
      "text/plain": [
       "array([[[176, 179, 177],\n",
       "        [178, 181, 179],\n",
       "        [180, 183, 181],\n",
       "        ...,\n",
       "        [193, 182, 178],\n",
       "        [193, 182, 178],\n",
       "        [193, 182, 178]],\n",
       "\n",
       "       [[177, 178, 176],\n",
       "        [178, 179, 177],\n",
       "        [181, 182, 180],\n",
       "        ...,\n",
       "        [193, 182, 178],\n",
       "        [193, 182, 178],\n",
       "        [193, 182, 178]],\n",
       "\n",
       "       [[176, 177, 175],\n",
       "        [178, 179, 177],\n",
       "        [180, 181, 179],\n",
       "        ...,\n",
       "        [193, 182, 178],\n",
       "        [193, 182, 178],\n",
       "        [193, 182, 178]],\n",
       "\n",
       "       ...,\n",
       "\n",
       "       [[ 79, 100, 121],\n",
       "        [ 96, 120, 140],\n",
       "        [ 37,  61,  81],\n",
       "        ...,\n",
       "        [  5,  13,  36],\n",
       "        [ 42,  50,  73],\n",
       "        [ 47,  55,  78]],\n",
       "\n",
       "       [[ 84, 105, 126],\n",
       "        [110, 134, 154],\n",
       "        [ 54,  78,  98],\n",
       "        ...,\n",
       "        [  3,  10,  35],\n",
       "        [ 15,  22,  47],\n",
       "        [ 38,  45,  70]],\n",
       "\n",
       "       [[ 67,  88, 109],\n",
       "        [ 66,  90, 110],\n",
       "        [ 56,  80, 100],\n",
       "        ...,\n",
       "        [ 58,  65,  90],\n",
       "        [ 44,  51,  76],\n",
       "        [ 14,  21,  46]]], dtype=uint8)"
      ]
     },
     "execution_count": 9,
     "metadata": {},
     "output_type": "execute_result"
    }
   ],
   "source": [
    "image"
   ]
  },
  {
   "cell_type": "code",
   "execution_count": 10,
   "id": "89d1cb25-5805-4e74-8edb-4a89aabc9b1b",
   "metadata": {},
   "outputs": [
    {
     "data": {
      "text/plain": [
       "(780, 3)"
      ]
     },
     "execution_count": 10,
     "metadata": {},
     "output_type": "execute_result"
    }
   ],
   "source": [
    "image[0].shape"
   ]
  },
  {
   "cell_type": "code",
   "execution_count": 11,
   "id": "04c60f43-c29b-4f33-a8e1-970e4759b754",
   "metadata": {},
   "outputs": [
    {
     "data": {
      "text/plain": [
       "array([183, 169, 157], dtype=uint8)"
      ]
     },
     "execution_count": 11,
     "metadata": {},
     "output_type": "execute_result"
    }
   ],
   "source": [
    "pixel_value = image[100, 200]\n",
    "pixel_value"
   ]
  },
  {
   "cell_type": "code",
   "execution_count": 12,
   "id": "72859684-ec09-4ef4-8689-09993e3d4661",
   "metadata": {},
   "outputs": [
    {
     "data": {
      "text/plain": [
       "array([183, 169, 157], dtype=uint8)"
      ]
     },
     "execution_count": 12,
     "metadata": {},
     "output_type": "execute_result"
    }
   ],
   "source": [
    "image[100, 200]"
   ]
  },
  {
   "cell_type": "code",
   "execution_count": 13,
   "id": "c0c3abb5-ca47-44c1-aa29-6a0bad2faaa7",
   "metadata": {},
   "outputs": [
    {
     "data": {
      "text/plain": [
       "(183, 169, 157)"
      ]
     },
     "execution_count": 13,
     "metadata": {},
     "output_type": "execute_result"
    }
   ],
   "source": [
    "image[100, 200][0], image[100, 200][1], image[100, 200][2]"
   ]
  },
  {
   "cell_type": "code",
   "execution_count": 14,
   "id": "f80dd147-faab-4110-a956-51f5b1109060",
   "metadata": {},
   "outputs": [],
   "source": [
    "blue = image[..., 0]\n",
    "green = image[..., 1]\n",
    "red = image[..., 2]"
   ]
  },
  {
   "cell_type": "code",
   "execution_count": 15,
   "id": "2ade4eff-43ea-4d0c-b4b3-d81de6bfde4c",
   "metadata": {},
   "outputs": [
    {
     "data": {
      "text/plain": [
       "array([[176, 178, 180, ..., 193, 193, 193],\n",
       "       [177, 178, 181, ..., 193, 193, 193],\n",
       "       [176, 178, 180, ..., 193, 193, 193],\n",
       "       ...,\n",
       "       [ 79,  96,  37, ...,   5,  42,  47],\n",
       "       [ 84, 110,  54, ...,   3,  15,  38],\n",
       "       [ 67,  66,  56, ...,  58,  44,  14]], dtype=uint8)"
      ]
     },
     "execution_count": 15,
     "metadata": {},
     "output_type": "execute_result"
    }
   ],
   "source": [
    "blue"
   ]
  },
  {
   "cell_type": "code",
   "execution_count": 16,
   "id": "1d702ec0-3672-4577-bf4e-99eeaec9705a",
   "metadata": {},
   "outputs": [
    {
     "data": {
      "text/plain": [
       "(520, 780)"
      ]
     },
     "execution_count": 16,
     "metadata": {},
     "output_type": "execute_result"
    }
   ],
   "source": [
    "blue.shape"
   ]
  },
  {
   "cell_type": "code",
   "execution_count": 17,
   "id": "d63e1e19-339e-4f48-82c8-96c83fe34c6e",
   "metadata": {},
   "outputs": [
    {
     "data": {
      "text/plain": [
       "array([[179, 181, 183, ..., 182, 182, 182],\n",
       "       [178, 179, 182, ..., 182, 182, 182],\n",
       "       [177, 179, 181, ..., 182, 182, 182],\n",
       "       ...,\n",
       "       [100, 120,  61, ...,  13,  50,  55],\n",
       "       [105, 134,  78, ...,  10,  22,  45],\n",
       "       [ 88,  90,  80, ...,  65,  51,  21]], dtype=uint8)"
      ]
     },
     "execution_count": 17,
     "metadata": {},
     "output_type": "execute_result"
    }
   ],
   "source": [
    "green"
   ]
  },
  {
   "cell_type": "code",
   "execution_count": 18,
   "id": "f6c841b0-6468-42fb-ac29-453f16eb9bb9",
   "metadata": {},
   "outputs": [
    {
     "data": {
      "text/plain": [
       "(520, 780)"
      ]
     },
     "execution_count": 18,
     "metadata": {},
     "output_type": "execute_result"
    }
   ],
   "source": [
    "green.shape"
   ]
  },
  {
   "cell_type": "code",
   "execution_count": 19,
   "id": "1fd83c33-3c9f-419b-bc75-be454934d139",
   "metadata": {},
   "outputs": [
    {
     "data": {
      "text/plain": [
       "array([[177, 179, 181, ..., 178, 178, 178],\n",
       "       [176, 177, 180, ..., 178, 178, 178],\n",
       "       [175, 177, 179, ..., 178, 178, 178],\n",
       "       ...,\n",
       "       [121, 140,  81, ...,  36,  73,  78],\n",
       "       [126, 154,  98, ...,  35,  47,  70],\n",
       "       [109, 110, 100, ...,  90,  76,  46]], dtype=uint8)"
      ]
     },
     "execution_count": 19,
     "metadata": {},
     "output_type": "execute_result"
    }
   ],
   "source": [
    "red"
   ]
  },
  {
   "cell_type": "code",
   "execution_count": 20,
   "id": "60e784da-e52b-4e38-9643-acbce2de153a",
   "metadata": {},
   "outputs": [
    {
     "data": {
      "text/plain": [
       "(520, 780)"
      ]
     },
     "execution_count": 20,
     "metadata": {},
     "output_type": "execute_result"
    }
   ],
   "source": [
    "red.shape"
   ]
  },
  {
   "cell_type": "code",
   "execution_count": 21,
   "id": "39a9fcc4-ca37-4e42-a55d-157fe112d1e6",
   "metadata": {},
   "outputs": [],
   "source": [
    "cv2.imshow(\"Blue channel\", blue)\n",
    "cv2.imshow(\"Green channel\", green)\n",
    "cv2.imshow(\"Red channel\", red)\n",
    "\n",
    "cv2.waitKey(0)\n",
    "cv2.destroyAllWindows()"
   ]
  },
  {
   "cell_type": "code",
   "execution_count": 22,
   "id": "c6afdbc5-6323-4910-93f6-8418cd34e20d",
   "metadata": {},
   "outputs": [],
   "source": [
    "cv2.imshow(\"Original image\", image)\n",
    "cv2.waitKey(0)\n",
    "cv2.destroyAllWindows()"
   ]
  },
  {
   "cell_type": "code",
   "execution_count": 23,
   "id": "e522918f-9d0d-4886-b1ea-cbf3cf7a846b",
   "metadata": {},
   "outputs": [],
   "source": [
    "image_gray = cv2.imread(\"Pics/bike.jpg\", 0)\n",
    "cv2.imshow(\"Gray Mode\", image_gray)\n",
    "cv2.waitKey()\n",
    "cv2.destroyAllWindows()"
   ]
  },
  {
   "cell_type": "code",
   "execution_count": 24,
   "id": "31a75a0d-4d7b-4ac9-aa60-5a5e27befcb1",
   "metadata": {},
   "outputs": [
    {
     "data": {
      "text/plain": [
       "(1143, 2000, 3)"
      ]
     },
     "execution_count": 24,
     "metadata": {},
     "output_type": "execute_result"
    }
   ],
   "source": [
    "img_astro = cv2.imread(\"Pics/astronaut.jpg\")\n",
    "img_astro.shape"
   ]
  },
  {
   "cell_type": "code",
   "execution_count": 30,
   "id": "89cb1c4d-4a5d-4bef-9c03-d44a52c52258",
   "metadata": {},
   "outputs": [
    {
     "name": "stdout",
     "output_type": "stream",
     "text": [
      "Main image doordinate: (1143, 2000, 3)\n",
      "Resize 0 image coordinate: (572, 1000, 3)\n",
      "Resize 1 image coordinate: (286, 500, 3)\n",
      "Resize 2 image coordinate: (143, 250, 3)\n"
     ]
    }
   ],
   "source": [
    "img_astro = cv2.imread(\"Pics/astronaut.jpg\")\n",
    "print('Main image doordinate:', img_astro.shape)\n",
    "cv2.imshow(\"Main image astro\", img_astro)\n",
    "cv2.waitKey()\n",
    "cv2.destroyAllWindows()\n",
    "\n",
    "for i in range(3):\n",
    "    img_astro = img_astro [::2, ::2, :]\n",
    "\n",
    "    cv2.imshow(f'Pic_resize {i}', img_astro)\n",
    "    print(f'Resize {i} image coordinate:', img_astro.shape)\n",
    "    cv2.waitKey()\n",
    "    cv2.destroyAllWindows()"
   ]
  },
  {
   "cell_type": "code",
   "execution_count": 61,
   "id": "b54f983a-6a9a-4d6c-8273-5a030d762c99",
   "metadata": {},
   "outputs": [
    {
     "name": "stdout",
     "output_type": "stream",
     "text": [
      "Main coordinate: (520, 780, 3)\n"
     ]
    }
   ],
   "source": [
    "img_bike = cv2.imread('Pics/bike.jpg', 1)\n",
    "print(\"Main coordinate:\", img_bike.shape)\n",
    "cv2.imshow('Main image', img_bike)\n",
    "img_resized = cv2.resize(img_bike, (1200, 800))\n",
    "cv2.imshow('Resized image', img_resized)\n",
    "cv2.setWindowProperty('Main image', cv2.WND_PROP_TOPMOST, 1)\n",
    "\n",
    "cv2.waitKey()\n",
    "cv2.destroyAllWindows()"
   ]
  },
  {
   "cell_type": "code",
   "execution_count": 41,
   "id": "fa28f4b2-22da-42f2-9833-b6a6678f3fcf",
   "metadata": {},
   "outputs": [
    {
     "data": {
      "text/plain": [
       "(800, 1200, 3)"
      ]
     },
     "execution_count": 41,
     "metadata": {},
     "output_type": "execute_result"
    }
   ],
   "source": [
    "img_resized.shape"
   ]
  },
  {
   "cell_type": "code",
   "execution_count": 55,
   "id": "6db5c635-db19-4f8b-afe2-9e92b127e3fe",
   "metadata": {},
   "outputs": [],
   "source": [
    "img = img_bike[:, ::3, :]\n",
    "cv2.imshow('Image_resize_3', img)\n",
    "cv2.waitKey()\n",
    "cv2.destroyAllWindows()"
   ]
  },
  {
   "cell_type": "code",
   "execution_count": 56,
   "id": "6c289c7b-87d8-47e5-8c4d-3efe2780c25f",
   "metadata": {},
   "outputs": [
    {
     "data": {
      "text/plain": [
       "(520, 260, 3)"
      ]
     },
     "execution_count": 56,
     "metadata": {},
     "output_type": "execute_result"
    }
   ],
   "source": [
    "img.shape"
   ]
  },
  {
   "cell_type": "code",
   "execution_count": null,
   "id": "3f54b194-72e8-4ab9-ac03-799652d4486a",
   "metadata": {},
   "outputs": [],
   "source": []
  }
 ],
 "metadata": {
  "kernelspec": {
   "display_name": "Python 3 (ipykernel)",
   "language": "python",
   "name": "python3"
  },
  "language_info": {
   "codemirror_mode": {
    "name": "ipython",
    "version": 3
   },
   "file_extension": ".py",
   "mimetype": "text/x-python",
   "name": "python",
   "nbconvert_exporter": "python",
   "pygments_lexer": "ipython3",
   "version": "3.11.5"
  }
 },
 "nbformat": 4,
 "nbformat_minor": 5
}
